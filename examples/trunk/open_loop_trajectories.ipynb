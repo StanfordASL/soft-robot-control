{
 "cells": [
  {
   "attachments": {},
   "cell_type": "markdown",
   "metadata": {},
   "source": [
    "# Open-loop test trajectories"
   ]
  },
  {
   "attachments": {},
   "cell_type": "markdown",
   "metadata": {},
   "source": [
    "Create a family of trajectories which can be used to evaluate the open-loop prediction performance of new SSMR models."
   ]
  },
  {
   "cell_type": "code",
   "execution_count": 1,
   "metadata": {},
   "outputs": [],
   "source": [
    "import numpy as np\n",
    "from os.path import join\n",
    "import pickle\n",
    "from copy import deepcopy"
   ]
  },
  {
   "cell_type": "code",
   "execution_count": 2,
   "metadata": {},
   "outputs": [],
   "source": [
    "%matplotlib qt\n",
    "import matplotlib.pyplot as plt"
   ]
  },
  {
   "attachments": {},
   "cell_type": "markdown",
   "metadata": {},
   "source": [
    "Import 30 mm closed-loop circle trajectory"
   ]
  },
  {
   "cell_type": "code",
   "execution_count": 4,
   "metadata": {},
   "outputs": [],
   "source": [
    "t0 = 1\n",
    "data = {}\n",
    "with open(join(\"/home/jonas/Projects/stanford/soft-robot-control/examples/trunk\", f'ssmr_sim.pkl'), 'rb') as f:\n",
    "    data = pickle.load(f)\n",
    "idx = np.argwhere(data['t'] >= t0)[0][0]\n",
    "data['t'] = data['t'][idx:] - data['t'][idx]\n",
    "data['z'] = data['z'][idx:, 3:]\n",
    "data['u'] = data['u'][idx:, :]"
   ]
  },
  {
   "attachments": {},
   "cell_type": "markdown",
   "metadata": {},
   "source": [
    "Plot closed-loop trajectory"
   ]
  },
  {
   "cell_type": "code",
   "execution_count": 5,
   "metadata": {},
   "outputs": [],
   "source": [
    "import matplotlib.colors as mcolors\n",
    "COLORS = list(mcolors.TABLEAU_COLORS.keys())\n"
   ]
  },
  {
   "cell_type": "code",
   "execution_count": 6,
   "metadata": {},
   "outputs": [
    {
     "name": "stdout",
     "output_type": "stream",
     "text": [
      "['tab:blue', 'tab:orange', 'tab:green', 'tab:red', 'tab:purple', 'tab:brown', 'tab:pink', 'tab:gray', 'tab:olive', 'tab:cyan']\n"
     ]
    }
   ],
   "source": [
    "fig, ax = plt.subplots(1, 1)\n",
    "print(COLORS)\n",
    "for i in range(data['u'].shape[1]):\n",
    "    ax.plot(data['u'][:, i], color=COLORS[i])\n",
    "fig.show()"
   ]
  },
  {
   "attachments": {},
   "cell_type": "markdown",
   "metadata": {},
   "source": [
    "Smoothen inputs to get rid of fast oscillations"
   ]
  },
  {
   "cell_type": "code",
   "execution_count": 7,
   "metadata": {},
   "outputs": [],
   "source": [
    "def smooth(weights, arr):\n",
    "   return np.convolve(weights/weights.sum(), arr)"
   ]
  },
  {
   "cell_type": "code",
   "execution_count": 18,
   "metadata": {},
   "outputs": [],
   "source": [
    "smooth_u = deepcopy(data['u'])"
   ]
  },
  {
   "cell_type": "code",
   "execution_count": 19,
   "metadata": {},
   "outputs": [],
   "source": [
    "fig, ax = plt.subplots(1, 1)\n",
    "smooth_window_size = 20\n",
    "for i in range(data['u'].shape[1]):\n",
    "    ax.plot(data['u'][:, i], color=COLORS[i])\n",
    "    smooth_u[:, i] = smooth(np.hanning(smooth_window_size), data['u'][:, i])[:-smooth_window_size+1]\n",
    "    ax.plot(smooth_u[:, i], color=COLORS[i], ls='', marker='x')\n",
    "fig.show()"
   ]
  },
  {
   "cell_type": "code",
   "execution_count": null,
   "metadata": {},
   "outputs": [],
   "source": [
    "plt.close('all')"
   ]
  },
  {
   "cell_type": "code",
   "execution_count": 22,
   "metadata": {},
   "outputs": [],
   "source": [
    "with open(join(\"/home/jonas/Projects/stanford/soft-robot-control/examples/trunk/dataCollection/open-loop_circle\", f'u.pkl'), 'wb') as f:\n",
    "    pickle.dump(smooth_u, f)"
   ]
  }
 ],
 "metadata": {
  "kernelspec": {
   "display_name": "soft",
   "language": "python",
   "name": "python3"
  },
  "language_info": {
   "codemirror_mode": {
    "name": "ipython",
    "version": 3
   },
   "file_extension": ".py",
   "mimetype": "text/x-python",
   "name": "python",
   "nbconvert_exporter": "python",
   "pygments_lexer": "ipython3",
   "version": "3.8.16"
  },
  "orig_nbformat": 4
 },
 "nbformat": 4,
 "nbformat_minor": 2
}
